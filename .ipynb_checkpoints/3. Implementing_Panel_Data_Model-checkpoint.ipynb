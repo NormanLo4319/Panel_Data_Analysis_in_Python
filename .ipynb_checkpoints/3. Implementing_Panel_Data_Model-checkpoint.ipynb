{
 "cells": [
  {
   "cell_type": "markdown",
   "id": "joined-article",
   "metadata": {},
   "source": [
    "# Implementing Panel Data Model\n",
    "\n",
    "Panel data regression is a powerful way to control dependencies of unobserved, independent variables on a dependent variable, which canlead to biased estimators in traditional linear regression models. In this notebook, we share how to build a panel data regression model with *Python* in a step-by-step manner.\n",
    "\n",
    "**What is Panel Data?**\n",
    "*Panel data is a two-dimensional concept, where the same individuals are observered repeatedly over different periods in time.*\n",
    "\n",
    "In general, panal data can be seen as a combination of cross-sectional and time-series data. Cross-sectional data is described as one observation of multiple objects and corresponding variables at a specific point in time (i.e. an observation is taken once). Time-series data only observes one object recurrently over time. Panel data comprises characteristics of both into one model by collecting data from multiple, same objects over time.\n",
    "\n",
    "In a nutshell, we can think of it like a timeline in which we **periodically observe the same individuals**.\n",
    "\n",
    "![panel_data](images/panel_data.png)\n",
    "\n",
    "Note: It is often people mixed up data concept, namely **pooled-cross-sections**. While both can be seen as summarized cross-sectional data over time, the main difference is that panel data always observes the same individuals, while this cannot be proven in pooled-cross-sections."
   ]
  },
  {
   "cell_type": "markdown",
   "id": "parliamentary-syndicate",
   "metadata": {},
   "source": [
    "## Panel Data Regression:\n",
    "\n",
    "Now we understand what panel data is. But what is the meaning behind this data concept and why should we use it?\n",
    "\n",
    "The answer is ... **heterogeneity and resulting endogeneity**. Maybe you already heard about this issue in traditional linear regression models, in which heterogeneity often leads to biased results. Panel data is able to deal with that problem. \n",
    "\n",
    "*The unobserved dependency of other independent variable(s) is called unobserved heterogeneity and the correlation between the independent variable(s) and the error term (i.e. the unobserved independent variabels) is called endogeneity.*\n",
    "\n",
    "Let's suppose we want to analyze the relationship on how *coffee consumption* affects the *level of concentration*. A simple linear regression model would look like this:\n",
    "\n",
    "$$concentration_i = \\beta_0 + \\beta_1 (coffee_i) + \\epsilon_1$$\n",
    "\n",
    "where:\n",
    "\n",
    "- concentration level is the dependent variable\n",
    "- $\\beta_0$ is the estimated intercept coefficient\n",
    "- $\\beta_1$ is the estimated slope coefficient\n",
    "- coffee consumption is the independent variable\n",
    "- $\\epsilon$ is the error term\n",
    "\n",
    "The goal of this model is to explore the relationship of *coffee consumption* on the *concentraction level*. Assuming they are positively correlated ($\\beta_1$ > 0), this would mean that if consuming more coffee, concentration level would increase.\n",
    "\n",
    "But, what if there is another variable that would affect existing concentration level and is not included in the model? For example, *tiredness* has a high chance to affect *coffee consumption* (if you are tired, you will obviously drink coffee). If you remember the first sentence of this article, such variables are called unobserved, independent variables. They are \"hidden\" behind the error term and if, e.g., *coffee consumption* is positively correlated to such a variable, the error term would increase as *coffee consumption* increases.\n",
    "\n",
    "This, in turn, would lead to an over increased estimator of the concentration level. Therefore, the estimated concentration level is biased and will lead to inaccurate inferences. \n",
    "\n",
    "Luckily, there is a way to deal with this problem using **panel data regression**. The advantage of panel data is that we cannot control **heterogeneity** in the linear regression model by acknowledge heterogeneity as **fix** or **random**.\n",
    "\n",
    "**Panel Data Regression:**\n",
    "\n",
    "$$y_{it} = \\beta x_{it} + \\alpha_i + \\mu_{it}$$\n",
    "\n",
    "for $t = 1, 2, 3, ..., T$ and $i = 1, 2, 3, ..., N$\n",
    "\n",
    "where:\n",
    "\n",
    "- $y$ is the dependent variable\n",
    "- $x$ is the independet variable(s)\n",
    "- $\\beta$ is the estimated coefficient(s)\n",
    "- $\\alpha$ is the individual effects\n",
    "- $\\mu$ is the idiosyncratic error"
   ]
  },
  {
   "cell_type": "markdown",
   "id": "front-prize",
   "metadata": {},
   "source": [
    "## Different Regression Models for Pandel Data:\n",
    "\n",
    "Generally speaking, there are three types of regression for panel data:\n",
    "\n",
    "**1) PooledOLS:** PooledOLS can be described as simple OLS (Ordinary Least Squared) model that is performed on panel data. It ignores time and individual characteristics and focuses only on dependencies between the individuals. However, simple OLS requires that there is no correlation between unobserved and independent variable(s).\n",
    "\n",
    "$$cov(x_{it}, \\alpha_i) = 0$$\n",
    "\n",
    "The problem with PooledOLS is that even the assumption above holds true, $\\alpha$ might have a serial correlation over time. Consequentely, PooledOLS is mostly inappropriate for panel data.\n",
    "\n",
    "$$cov(\\alpha_i, \\alpha_i) = var(\\alpha_i) = \\sigma_{\\alpha}^2 > 0$$\n",
    "\n",
    "Note: To counter this problem, there is another regression model called *FGLS (Feasible Generalized Least Squares)*, which is also used in random effects models.\n",
    "\n",
    "**2) Fixed-Effects (FE) Model:** The FE-model determines individual effects of unobserved, independent variables as constant (\"fix\") over time. Within FE-models, the relationship between unobserved, independent variables and the independent variables (i.e. endogeneity) can be existent.\n",
    "\n",
    "The trick in a FE-model is that if we assume $\\alpha$ as constant and subtract the mean values from each equation term, $\\alpha$ (i.e. the unobserved heterogeneity) will get zero and can therefore be neglected.\n",
    "\n",
    "$$y_{it} - \\bar{y}_i = \\beta (x_{it} - \\bar{x}_i) + (\\alpha_i - \\alpha_i) + (\\mu_{it} - \\bar{\\mu}_i)$$\n",
    "\n",
    "$$y_{it} - \\bar{y}_i = \\beta (x_{it} - \\bar{x}_i) + (\\mu_{it} - \\bar{\\mu}_i)$$\n",
    "\n",
    "Solely, the idiosyncratic error (represented by unobserved factors that change over time and across units) remains and has to be exogen and non-collinear.\n",
    "\n",
    "However, because heterogeneity can be controlled, this model allows heterogeneity to be existent within the model. Unfortunately, due to the fact that individual effects are fixed, dependencies can only be observed within the individuals.\n",
    "\n",
    "Note: An alternative to the FE-model is the *LSDV-model (Least SquaresDummy Variables)*, in which the (fixed) individual effects are representedby dummy variables. This model will lead to the exact same results, but has a main disadvantage, since it will need a lot more computation power if the regression model is big.\n",
    "\n",
    "**3) Random-Effects (RE) Model:** RE-models determine individual effects of unobserved, independent variables as random variables over time. They are able to \"switch\" between OLS and FE and hence, can focus on both, dependencies between and within individuals. Using the same notation as above:\n",
    "\n",
    "$$y_{it} = \\beta x_{it} + \\alpha_i + \\mu_{it}$$\n",
    "\n",
    "for $t = 1, 2, 3, ..., T$ and $i = 1, 2, 3, ..., N$\n",
    "\n",
    "In order to include between- as well as within-estimators, we first need to define, when to use which estimator. In general, if the covariance between $\\alpha$ and independent variables is zero (or very small), there is no correlation between them and an OLS-model is preferred. If that covariance is not zero, there is a relationship that should be eliminated by using the FE_model:\n",
    "\n",
    "**OLS Model:**\n",
    "$$cov(x_{it}, \\alpha_i) = 0$$\n",
    "\n",
    "**FE Model:**\n",
    "$$cov(x_{it}, \\alpha_i) \\neq 0$$\n",
    "\n",
    "The problem with using OLS, as stated above, is the serial correlation between $\\alpha$ over time. Hence, RE-models determine which model to take according to the serial correlation of the error terms. To do so, the model uses the term $\\lambda$. In short, $\\lambda$ calculates how big the variance of $\\alpha$ is. If it is zero, then there will be no variance of $\\alpha$, which, in turn, means that PooledOLS is the preferred choice. On the other hand, if the variance of $\\alpha$ tend to become very big, $\\lambda$ tends to become one and therefore it might make sense to eliminate $\\alpha$ and go with the FE-model.\n",
    "\n",
    "$$\\lambda = 1 - \\frac{\\sigma_{\\mu}^2}{\\sigma_{\\mu}^2 + T \\sigma_{\\alpha}^2}$$"
   ]
  },
  {
   "cell_type": "markdown",
   "id": "technological-height",
   "metadata": {},
   "source": [
    "## Model Selection:\n",
    "\n",
    "**How to decide which model is appropriate?**\n",
    "\n",
    "Choosing between PooledOLS and FE/RE: Basically, there are five assumptions for simple linear regression models that must be fulfilled. Two of them can help us in choosing between PooledOLS and FE/RE.\n",
    "\n",
    "These assumptions are (1) Linearity, (2) Exogeneity, (3a) Homoskedasticityand (3b) Non-autocorrelation, (4) Independent variables are not Stochastic, and (5) No Multicolinearity.\n",
    "\n",
    "If assumption (2) or (3) (or both) are violated, then FE or RE should be more suitable.\n",
    "\n",
    "Choosing between FE and RE: This depends on our assumption, if the individual, unobserved heterogeneity is a constant or random effect. But this question can also be answered by perfoming the Hausman-Test.\n",
    "\n",
    "**Hausman-Test:**\n",
    "\n",
    "In simple terms, the Hausman-Test is a test of endogeneity. By running the Hausman-Test, the null hypothesis is that the covariance between independent variables and $\\alpha$ is zero. If this is the case, then RE is preferred over FE. If the null hypothesis is not true, we must go with the FE-model. \n",
    "\n",
    "So, we now understand the theoretics behind panel data regression. Let's start building the model in Python step-by-step:"
   ]
  },
  {
   "cell_type": "markdown",
   "id": "incorporate-astronomy",
   "metadata": {},
   "source": [
    "## How does the income affects crime rate?\n",
    "\n",
    "We will use the *Guns* dataset, which is normally provided in R. As stated in the description of this dataset, *Guns* is a **balanced** panel of data on 50 US states, plus the district of Columbia (for a total of 51 states), by year for 1977 - 1999.\n",
    "\n",
    "Note: A panel dataset is called \"*balanced*\" if there are no missing values within the dataset, otherwise, it would be called \"*unbalanced*\"\n",
    "\n",
    "For terms of simplicity, we only use the following columns provided by the dataset:\n",
    "\n",
    "- *State*: This column represents the individual observation\n",
    "- *Year*: The column Year documents our periodically collected data (between 1977 - 1999)\n",
    "- *Income*: Income is the independent variable and is represented as the per capita personal income.\n",
    "- *Violent*: Violent is our dependent variable and includes violent crime rates (incidents (incidents / 100000 inhabitants)\n",
    "\n",
    "### Step 1: Import dataset and transform it into the right format"
   ]
  },
  {
   "cell_type": "code",
   "execution_count": 3,
   "id": "lyric-mayor",
   "metadata": {},
   "outputs": [],
   "source": [
    "# Import modules\n",
    "import pandas as pd\n",
    "from linearmodels import PanelOLS\n",
    "import statsmodels.formula.api as smf"
   ]
  },
  {
   "cell_type": "code",
   "execution_count": 6,
   "id": "strategic-reasoning",
   "metadata": {},
   "outputs": [],
   "source": [
    "# Import the 'Guns' dataset\n",
    "guns = pd.read_csv(\"data/guns.csv\", \n",
    "                   usecols = ['state', 'year', 'income', 'violent'],\n",
    "                   index_col = ['state', 'year'])"
   ]
  },
  {
   "cell_type": "code",
   "execution_count": 7,
   "id": "mexican-finnish",
   "metadata": {},
   "outputs": [],
   "source": [
    "# Create the year column\n",
    "years = guns.index.get_level_values('year').to_list()\n",
    "guns['year'] = pd.Categorical(years)"
   ]
  },
  {
   "cell_type": "markdown",
   "id": "retained-browser",
   "metadata": {},
   "source": [
    "### Step 2: Start with PooledOLS and check required assumptions\n",
    "\n",
    "We would recommend to start performing PooledOLS. Since it can be seen as a simple OLS model, it has to fulfill certain assumptions. As stated above, if condition 2 or 3 (or both) are violated, then FE- / RE-model are likely more suitable. Since condition 2 can only be tested further down with the Hausman-Test, we will stick to proving condition 3 for now."
   ]
  },
  {
   "cell_type": "code",
   "execution_count": 9,
   "id": "under-intermediate",
   "metadata": {},
   "outputs": [],
   "source": [
    "# Import modules\n",
    "from linearmodels import PooledOLS\n",
    "import statsmodels.api as sm\n",
    "import statsmodels.formula.api as smf"
   ]
  },
  {
   "cell_type": "code",
   "execution_count": 10,
   "id": "royal-patrick",
   "metadata": {},
   "outputs": [],
   "source": [
    "# Perform PooledOLS\n",
    "exog = sm.tools.tools.add_constant(guns['income'])\n",
    "endog = guns['violent']\n",
    "reg = PooledOLS(endog, exog)\n",
    "results = reg.fit(cov_type = 'clustered', cluster_entity = True)"
   ]
  },
  {
   "cell_type": "code",
   "execution_count": 11,
   "id": "welsh-union",
   "metadata": {},
   "outputs": [],
   "source": [
    "# Store values for checking homoskedasticity graphically\n",
    "fittedvals_OLS = results.predict().fitted_values\n",
    "residuals_OLS = results.resids"
   ]
  },
  {
   "cell_type": "markdown",
   "id": "offshore-celtic",
   "metadata": {},
   "source": [
    "Condition 3 is splitted in 3a (Homoskedasticity) and 3b (Non-Autocorrelation). Those assumptions can be tested with a number of different tests. For conditional 3a, we demonstrate how to identify heteroscedasticity graphically as well as perform the *White-Test* and *Breusch-Pagan-Test* (both are similar). For condition 3b, it will be tested using *Durbin-Watson-Test*."
   ]
  },
  {
   "cell_type": "code",
   "execution_count": 21,
   "id": "imported-junior",
   "metadata": {},
   "outputs": [
    {
     "data": {
      "image/png": "[encoded data removed]",
      "text/plain": [
       "<Figure size 720x432 with 1 Axes>"
      ]
     },
     "metadata": {
      "needs_background": "light"
     },
     "output_type": "display_data"
    }
   ],
   "source": [
    "# Condition 3a Homoskedasticity\n",
    "import matplotlib.pyplot as plt\n",
    "\n",
    "# Residual-Plot for growing variance detection\n",
    "fig, ax = plt.subplots(figsize=(10, 6))\n",
    "ax.scatter(fittedvals_OLS, residuals_OLS, color = 'blue', s = 1)\n",
    "ax.axhline(0, color = 'r', ls = '--')\n",
    "ax.set_xlabel('Predicted Values', fontsize = 15)\n",
    "ax.set_ylabel('Residuals', fontsize = 15)\n",
    "ax.set_title('Homoskedasticity Test', fontsize = 20)\n",
    "plt.show()\n",
    "plt.savefig('images/homoskedasticity.png')\n",
    "plt.close()"
   ]
  },
  {
   "cell_type": "markdown",
   "id": "rolled-formation",
   "metadata": {},
   "source": [
    "Basically, a residuals-plot represents predicted values (x-axis) vs. residuals(y-axis). If the plotted data points spread out, this is an indicator for growing variance and thus, for heteroskedasticity. Since this seems to be the case in our example, we might have the first violation. But let´s check this with the White- and the Breusch-Pagan-Test:"
   ]
  },
  {
   "cell_type": "code",
   "execution_count": 24,
   "id": "appropriate-phase",
   "metadata": {},
   "outputs": [
    {
     "name": "stdout",
     "output_type": "stream",
     "text": [
      "{'LM-Stat': 200.15502156044568, 'LM p-val': 3.442621728588946e-44, 'F-Stat': 120.35903993735407, 'F p-val': 2.925453555717697e-48}\n"
     ]
    }
   ],
   "source": [
    "# Import module\n",
    "from statsmodels.stats.diagnostic import het_white, het_breuschpagan\n",
    "\n",
    "# White-Test\n",
    "pooled_ols = pd.concat([guns, residuals_OLS], axis = 1)\n",
    "pooled_ols = pooled_ols.drop(['year'], axis = 1).fillna(0)\n",
    "exog = sm.tools.tools.add_constant(guns['income']).fillna(0)\n",
    "\n",
    "# Perform White-Test\n",
    "white_test = het_white(pooled_ols['residual'], exog)\n",
    "\n",
    "# Print results\n",
    "labels = ['LM-Stat', 'LM p-val', 'F-Stat', 'F p-val']\n",
    "print(dict(zip(labels, white_test)))"
   ]
  },
  {
   "cell_type": "code",
   "execution_count": 25,
   "id": "military-median",
   "metadata": {},
   "outputs": [
    {
     "name": "stdout",
     "output_type": "stream",
     "text": [
      "{'LM-Stat': 110.96166044221745, 'LM p-val': 6.032616972194349e-26, 'F-Stat': 122.34596392437228, 'F p-val': 4.048137598792713e-27}\n"
     ]
    }
   ],
   "source": [
    "# Breusch-Pagan-Test\n",
    "breusch_pagan_test = het_breuschpagan(pooled_ols['residual'], exog)\n",
    "\n",
    "# Print results\n",
    "labels = ['LM-Stat', 'LM p-val', 'F-Stat', 'F p-val']\n",
    "print(dict(zip(labels, breusch_pagan_test)))"
   ]
  },
  {
   "cell_type": "markdown",
   "id": "alone-evans",
   "metadata": {},
   "source": [
    "Therefore, we have proven our first violation 3a."
   ]
  },
  {
   "cell_type": "code",
   "execution_count": null,
   "id": "similar-bryan",
   "metadata": {},
   "outputs": [],
   "source": []
  }
 ],
 "metadata": {
  "hide_input": false,
  "kernelspec": {
   "display_name": "Python 3",
   "language": "python",
   "name": "python3"
  },
  "language_info": {
   "codemirror_mode": {
    "name": "ipython",
    "version": 3
   },
   "file_extension": ".py",
   "mimetype": "text/x-python",
   "name": "python",
   "nbconvert_exporter": "python",
   "pygments_lexer": "ipython3",
   "version": "3.7.1"
  },
  "nbTranslate": {
   "displayLangs": [
    "*"
   ],
   "hotkey": "alt-t",
   "langInMainMenu": true,
   "sourceLang": "en",
   "targetLang": "fr",
   "useGoogleTranslate": true
  },
  "varInspector": {
   "cols": {
    "lenName": 16,
    "lenType": 16,
    "lenVar": 40
   },
   "kernels_config": {
    "python": {
     "delete_cmd_postfix": "",
     "delete_cmd_prefix": "del ",
     "library": "var_list.py",
     "varRefreshCmd": "print(var_dic_list())"
    },
    "r": {
     "delete_cmd_postfix": ") ",
     "delete_cmd_prefix": "rm(",
     "library": "var_list.r",
     "varRefreshCmd": "cat(var_dic_list()) "
    }
   },
   "types_to_exclude": [
    "module",
    "function",
    "builtin_function_or_method",
    "instance",
    "_Feature"
   ],
   "window_display": false
  }
 },
 "nbformat": 4,
 "nbformat_minor": 5
}
