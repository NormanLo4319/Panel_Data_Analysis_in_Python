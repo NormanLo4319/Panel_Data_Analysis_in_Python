{
 "cells": [
  {
   "cell_type": "markdown",
   "id": "joined-article",
   "metadata": {},
   "source": [
    "# Implementing Panel Data Model\n",
    "\n",
    "Panel data regression is a powerful way to control dependencies of unobserved, independent variables on a dependent variable, which canlead to biased estimators in traditional linear regression models. In this notebook, we share how to build a panel data regression model with *Python* in a step-by-step manner.\n",
    "\n",
    "**What is Panel Data?**\n",
    "*Panel data is a two-dimensional concept, where the same individuals are observered repeatedly over different periods in time.*\n",
    "\n",
    "In general, panal data can be seen as a combination of cross-sectional and time-series data. Cross-sectional data is described as one observation of multiple objects and corresponding variables at a specific point in time (i.e. an observation is taken once). Time-series data only observes one object recurrently over time. Panel data comprises characteristics of both into one model by collecting data from multiple, same objects over time.\n",
    "\n",
    "In a nutshell, we can think of it like a timeline in which we **periodically observe the same individuals**.\n",
    "\n",
    "![panel_data](images/panel_data.png)\n",
    "\n",
    "Note: It is often people mixed up data concept, namely **pooled-cross-sections**. While both can be seen as summarized cross-sectional data over time, the main difference is that panel data always observes the same individuals, while this cannot be proven in pooled-cross-sections."
   ]
  },
  {
   "cell_type": "markdown",
   "id": "parliamentary-syndicate",
   "metadata": {},
   "source": [
    "## Panel Data Regression:\n",
    "\n",
    "Now we understand what panel data is. But what is the meaning behind this data concept and why should we use it?\n",
    "\n",
    "The answer is ... **heterogeneity and resulting endogeneity**. Maybe you already heard about this issue in traditional linear regression models, in which heterogeneity often leads to biased results. Panel data is able to deal with that problem. \n",
    "\n",
    "*The unobserved dependency of other independent variable(s) is called unobserved heterogeneity and the correlation between the independent variable(s) and the error term (i.e. the unobserved independent variabels) is called endogeneity.*\n",
    "\n",
    "Let's suppose we want to analyze the relationship on how *coffee consumption* affects the *level of concentration*. A simple linear regression model would look like this:\n",
    "\n",
    "$$concentration_i = \\beta_0 + \\beta_1 (coffee_i) + \\epsilon_i$$\n",
    "\n",
    "where:\n",
    "\n",
    "- concentration level is the dependent variable\n",
    "- $\\beta_0$ is the estimated intercept coefficient\n",
    "- $\\beta_1$ is the estimated slope coefficient\n",
    "- coffee consumption is the independent variable\n",
    "- $\\epsilon$ is the error term\n",
    "\n",
    "The goal of this model is to explore the relationship of *coffee consumption* on the *concentraction level*. Assuming they are positively correlated ($\\beta_1$ > 0), this would mean that if consuming more coffee, concentration level would increase.\n",
    "\n",
    "But, what if there is another variable that would affect existing concentration level and is not included in the model? For example, *tiredness* has a high chance to affect *coffee consumption* (if you are tired, you will obviously drink coffee). If you remember the first sentence of this article, such variables are called unobserved, independent variables. They are \"hidden\" behind the error term and if, e.g., *coffee consumption* is positively correlated to such a variable, the error term would increase as *coffee consumption* increases.\n",
    "\n",
    "This, in turn, would lead to an over increased estimator of the concentration level. Therefore, the estimated concentration level is biased and will lead to inaccurate inferences. \n",
    "\n",
    "Luckily, there is a way to deal with this problem using **panel data regression**. The advantage of panel data is that we cannot control **heterogeneity** in the linear regression model by acknowledge heterogeneity as **fix** or **random**.\n",
    "\n",
    "**Panel Data Regression:**\n",
    "\n",
    "$$y_{it} = \\beta x_{it} + \\alpha_i + \\mu_{it}$$\n",
    "\n",
    "for $t = 1, 2, 3, ..., T$ and $i = 1, 2, 3, ..., N$\n",
    "\n",
    "where:\n",
    "\n",
    "- $y$ is the dependent variable\n",
    "- $x$ is the independet variable(s)\n",
    "- $\\beta$ is the estimated coefficient(s)\n",
    "- $\\alpha$ is the individual effects\n",
    "- $\\mu$ is the idiosyncratic error"
   ]
  },
  {
   "cell_type": "markdown",
   "id": "front-prize",
   "metadata": {},
   "source": [
    "## Different Regression Models for Pandel Data:\n",
    "\n",
    "Generally speaking, there are three types of regression for panel data:\n",
    "\n",
    "**1) PooledOLS:** PooledOLS can be described as simple OLS (Ordinary Least Squared) model that is performed on panel data. It ignores time and individual characteristics and focuses only on dependencies between the individuals. However, simple OLS requires that there is no correlation between unobserved and independent variable(s).\n",
    "\n",
    "$$cov(x_{it}, \\alpha_i) = 0$$\n",
    "\n",
    "The problem with PooledOLS is that even the assumption above holds true, $\\alpha$ might have a serial correlation over time. Consequentely, PooledOLS is mostly inappropriate for panel data.\n",
    "\n",
    "$$cov(\\alpha_i, \\alpha_i) = var(\\alpha_i) = \\sigma_{\\alpha}^2 > 0$$\n",
    "\n",
    "Note: To counter this problem, there is another regression model called *FGLS (Feasible Generalized Least Squares)*, which is also used in random effects models.\n",
    "\n",
    "**2) Fixed-Effects (FE) Model:** The FE-model determines individual effects of unobserved, independent variables as constant (\"fix\") over time. Within FE-models, the relationship between unobserved, independent variables and the independent variables (i.e. endogeneity) can be existent.\n",
    "\n",
    "The trick in a FE-model is that if we assume $\\alpha$ as constant and subtract the mean values from each equation term, $\\alpha$ (i.e. the unobserved heterogeneity) will get zero and can therefore be neglected.\n",
    "\n",
    "$$y_{it} - \\bar{y}_i = \\beta (x_{it} - \\bar{x}_i) + (\\alpha_i - \\alpha_i) + (\\mu_{it} - \\bar{\\mu}_i)$$\n",
    "\n",
    "$$y_{it} - \\bar{y}_i = \\beta (x_{it} - \\bar{x}_i) + (\\mu_{it} - \\bar{\\mu}_i)$$\n",
    "\n",
    "Solely, the idiosyncratic error (represented by unobserved factors that change over time and across units) remains and has to be exogen and non-collinear.\n",
    "\n",
    "However, because heterogeneity can be controlled, this model allows heterogeneity to be existent within the model. Unfortunately, due to the fact that individual effects are fixed, dependencies can only be observed within the individuals.\n",
    "\n",
    "Note: An alternative to the FE-model is the *LSDV-model (Least SquaresDummy Variables)*, in which the (fixed) individual effects are representedby dummy variables. This model will lead to the exact same results, but has a main disadvantage, since it will need a lot more computation power if the regression model is big.\n",
    "\n",
    "**3) Random-Effects (RE) Model:** RE-models determine individual effects of unobserved, independent variables as random variables over time. They are able to \"switch\" between OLS and FE and hence, can focus on both, dependencies between and within individuals. Using the same notation as above:\n",
    "\n",
    "$$y_{it} = \\beta x_{it} + \\alpha_i + \\mu_{it}$$\n",
    "\n",
    "for $t = 1, 2, 3, ..., T$ and $i = 1, 2, 3, ..., N$\n",
    "\n",
    "In order to include between- as well as within-estimators, we first need to define, when to use which estimator. In general, if the covariance between $\\alpha$ and independent variables is zero (or very small), there is no correlation between them and an OLS-model is preferred. If that covariance is not zero, there is a relationship that should be eliminated by using the FE_model:\n",
    "\n",
    "**OLS Model:**\n",
    "$$cov(x_{it}, \\alpha_i) = 0$$\n",
    "\n",
    "**FE Model:**\n",
    "$$cov(x_{it}, \\alpha_i) \\neq 0$$\n",
    "\n",
    "The problem with using OLS, as stated above, is the serial correlation between $\\alpha$ over time. Hence, RE-models determine which model to take according to the serial correlation of the error terms. To do so, the model uses the term $\\lambda$. In short, $\\lambda$ calculates how big the variance of $\\alpha$ is. If it is zero, then there will be no variance of $\\alpha$, which, in turn, means that PooledOLS is the preferred choice. On the other hand, if the variance of $\\alpha$ tend to become very big, $\\lambda$ tends to become one and therefore it might make sense to eliminate $\\alpha$ and go with the FE-model.\n",
    "\n",
    "$$\\lambda = 1 - \\frac{\\sigma_{\\mu}^2}{\\sigma_{\\mu}^2 + T \\sigma_{\\alpha}^2}$$"
   ]
  },
  {
   "cell_type": "markdown",
   "id": "technological-height",
   "metadata": {},
   "source": [
    "## Model Selection:\n",
    "\n",
    "**How to decide which model is appropriate?**\n",
    "\n",
    "Choosing between PooledOLS and FE/RE: Basically, there are five assumptions for simple linear regression models that must be fulfilled. Two of them can help us in choosing between PooledOLS and FE/RE.\n",
    "\n",
    "These assumptions are (1) Linearity, (2) Exogeneity, (3a) Homoskedasticityand (3b) Non-autocorrelation, (4) Independent variables are not Stochastic, and (5) No Multicolinearity.\n",
    "\n",
    "If assumption (2) or (3) (or both) are violated, then FE or RE should be more suitable.\n",
    "\n",
    "Choosing between FE and RE: This depends on our assumption, if the individual, unobserved heterogeneity is a constant or random effect. But this question can also be answered by perfoming the Hausman-Test.\n",
    "\n",
    "**Hausman-Test:**\n",
    "\n",
    "In simple terms, the Hausman-Test is a test of endogeneity. By running the Hausman-Test, the null hypothesis is that the covariance between independent variables and $\\alpha$ is zero. If this is the case, then RE is preferred over FE. If the null hypothesis is not true, we must go with the FE-model. \n",
    "\n",
    "So, we now understand the theoretics behind panel data regression. Let's start building the model in Python step-by-step:"
   ]
  },
  {
   "cell_type": "markdown",
   "id": "incorporate-astronomy",
   "metadata": {},
   "source": [
    "## How does the income affects crime rate?\n",
    "\n",
    "We will use the *Guns* dataset, which is normally provided in R. As stated in the description of this dataset, *Guns* is a **balanced** panel of data on 50 US states, plus the district of Columbia (for a total of 51 states), by year for 1977 - 1999.\n",
    "\n",
    "Note: A panel dataset is called \"*balanced*\" if there are no missing values within the dataset, otherwise, it would be called \"*unbalanced*\"\n",
    "\n",
    "For terms of simplicity, we only use the following columns provided by the dataset:\n",
    "\n",
    "- *State*: This column represents the individual observation\n",
    "- *Year*: The column Year documents our periodically collected data (between 1977 - 1999)\n",
    "- *Income*: Income is the independent variable and is represented as the per capita personal income.\n",
    "- *Violent*: Violent is our dependent variable and includes violent crime rates (incidents (incidents / 100000 inhabitants)\n",
    "\n",
    "### Step 1: Import dataset and transform it into the right format"
   ]
  },
  {
   "cell_type": "code",
   "execution_count": 1,
   "id": "lyric-mayor",
   "metadata": {},
   "outputs": [],
   "source": [
    "# Import modules\n",
    "import pandas as pd\n",
    "from linearmodels import PanelOLS\n",
    "import statsmodels.formula.api as smf"
   ]
  },
  {
   "cell_type": "code",
   "execution_count": 2,
   "id": "strategic-reasoning",
   "metadata": {},
   "outputs": [],
   "source": [
    "# Import the 'Guns' dataset\n",
    "guns = pd.read_csv(\"data/guns.csv\", \n",
    "                   usecols = ['state', 'year', 'income', 'violent'],\n",
    "                   index_col = ['state', 'year'])"
   ]
  },
  {
   "cell_type": "code",
   "execution_count": 3,
   "id": "mexican-finnish",
   "metadata": {},
   "outputs": [],
   "source": [
    "# Create the year column\n",
    "years = guns.index.get_level_values('year').to_list()\n",
    "guns['year'] = pd.Categorical(years)"
   ]
  },
  {
   "cell_type": "markdown",
   "id": "retained-browser",
   "metadata": {},
   "source": [
    "### Step 2: Start with PooledOLS and check required assumptions\n",
    "\n",
    "We would recommend to start performing PooledOLS. Since it can be seen as a simple OLS model, it has to fulfill certain assumptions. As stated above, if condition 2 or 3 (or both) are violated, then FE- / RE-model are likely more suitable. Since condition 2 can only be tested further down with the Hausman-Test, we will stick to proving condition 3 for now."
   ]
  },
  {
   "cell_type": "code",
   "execution_count": 4,
   "id": "under-intermediate",
   "metadata": {},
   "outputs": [],
   "source": [
    "# Import modules\n",
    "from linearmodels import PooledOLS\n",
    "import statsmodels.api as sm\n",
    "import statsmodels.formula.api as smf"
   ]
  },
  {
   "cell_type": "code",
   "execution_count": 5,
   "id": "royal-patrick",
   "metadata": {},
   "outputs": [],
   "source": [
    "# Perform PooledOLS\n",
    "exog = sm.tools.tools.add_constant(guns['income'])\n",
    "endog = guns['violent']\n",
    "reg = PooledOLS(endog, exog)\n",
    "results = reg.fit(cov_type = 'clustered', cluster_entity = True)"
   ]
  },
  {
   "cell_type": "code",
   "execution_count": 6,
   "id": "welsh-union",
   "metadata": {},
   "outputs": [],
   "source": [
    "# Store values for checking homoskedasticity graphically\n",
    "fittedvals_OLS = results.predict().fitted_values\n",
    "residuals_OLS = results.resids"
   ]
  },
  {
   "cell_type": "markdown",
   "id": "offshore-celtic",
   "metadata": {},
   "source": [
    "Condition 3 is splitted in 3a (Homoskedasticity) and 3b (Non-Autocorrelation). Those assumptions can be tested with a number of different tests. For conditional 3a, we demonstrate how to identify heteroscedasticity graphically as well as perform the *White-Test* and *Breusch-Pagan-Test* (both are similar). For condition 3b, it will be tested using *Durbin-Watson-Test*."
   ]
  },
  {
   "cell_type": "code",
   "execution_count": 7,
   "id": "imported-junior",
   "metadata": {
    "scrolled": true
   },
   "outputs": [
    {
     "data": {
      "image/png": "[encoded data removed]",
      "text/plain": [
       "<Figure size 720x432 with 1 Axes>"
      ]
     },
     "metadata": {
      "needs_background": "light"
     },
     "output_type": "display_data"
    }
   ],
   "source": [
    "# Condition 3a Homoskedasticity\n",
    "import matplotlib.pyplot as plt\n",
    "\n",
    "# Residual-Plot for growing variance detection\n",
    "fig, ax = plt.subplots(figsize=(10, 6))\n",
    "ax.scatter(fittedvals_OLS, residuals_OLS, color = 'blue', s = 1)\n",
    "ax.axhline(0, color = 'r', ls = '--')\n",
    "ax.set_xlabel('Predicted Values', fontsize = 15)\n",
    "ax.set_ylabel('Residuals', fontsize = 15)\n",
    "ax.set_title('Homoskedasticity Test', fontsize = 20)\n",
    "plt.show()\n",
    "plt.savefig('images/homoskedasticity.png')\n",
    "plt.close()"
   ]
  },
  {
   "cell_type": "markdown",
   "id": "rolled-formation",
   "metadata": {},
   "source": [
    "Basically, a residuals-plot represents predicted values (x-axis) vs. residuals(y-axis). If the plotted data points spread out, this is an indicator for growing variance and thus, for heteroskedasticity. Since this seems to be the case in our example, we might have the first violation. But let´s check this with the White- and the Breusch-Pagan-Test:"
   ]
  },
  {
   "cell_type": "code",
   "execution_count": 8,
   "id": "appropriate-phase",
   "metadata": {},
   "outputs": [
    {
     "name": "stdout",
     "output_type": "stream",
     "text": [
      "{'LM-Stat': 200.15502156044568, 'LM p-val': 3.442621728588946e-44, 'F-Stat': 120.35903993735407, 'F p-val': 2.925453555717697e-48}\n"
     ]
    }
   ],
   "source": [
    "# Import module\n",
    "from statsmodels.stats.diagnostic import het_white, het_breuschpagan\n",
    "\n",
    "# White-Test\n",
    "pooled_ols = pd.concat([guns, residuals_OLS], axis = 1)\n",
    "pooled_ols = pooled_ols.drop(['year'], axis = 1).fillna(0)\n",
    "exog = sm.tools.tools.add_constant(guns['income']).fillna(0)\n",
    "\n",
    "# Perform White-Test\n",
    "white_test = het_white(pooled_ols['residual'], exog)\n",
    "\n",
    "# Print results\n",
    "labels = ['LM-Stat', 'LM p-val', 'F-Stat', 'F p-val']\n",
    "print(dict(zip(labels, white_test)))"
   ]
  },
  {
   "cell_type": "code",
   "execution_count": 9,
   "id": "military-median",
   "metadata": {},
   "outputs": [
    {
     "name": "stdout",
     "output_type": "stream",
     "text": [
      "{'LM-Stat': 110.96166044221745, 'LM p-val': 6.032616972194349e-26, 'F-Stat': 122.34596392437228, 'F p-val': 4.048137598792713e-27}\n"
     ]
    }
   ],
   "source": [
    "# Breusch-Pagan-Test\n",
    "breusch_pagan_test = het_breuschpagan(pooled_ols['residual'], exog)\n",
    "\n",
    "# Print results\n",
    "labels = ['LM-Stat', 'LM p-val', 'F-Stat', 'F p-val']\n",
    "print(dict(zip(labels, breusch_pagan_test)))"
   ]
  },
  {
   "cell_type": "markdown",
   "id": "alone-evans",
   "metadata": {},
   "source": [
    "In simple terms, if *p* < 0.05, then heteroskedasticity is indicateed. Both tests give very small *p*-values (White-Test: 3.4426e-44, Breusch-Pagan-Test: 6.0326e-26).\n",
    "\n",
    "Therefore, we have proven our first violation. \n",
    "\n",
    "Let's continue to perform assumption 3b:"
   ]
  },
  {
   "cell_type": "code",
   "execution_count": 10,
   "id": "similar-bryan",
   "metadata": {},
   "outputs": [],
   "source": [
    "# Non-Autocorrelation, Durbin-Watson-Test\n",
    "from statsmodels.stats.stattools import durbin_watson"
   ]
  },
  {
   "cell_type": "code",
   "execution_count": 11,
   "id": "sweet-swift",
   "metadata": {},
   "outputs": [
    {
     "name": "stdout",
     "output_type": "stream",
     "text": [
      "0.08937264851640211\n"
     ]
    }
   ],
   "source": [
    "# Perform Durbin-Watson-Test\n",
    "durbin_watson_test = durbin_watson(pooled_ols['residual'])\n",
    "\n",
    "# Print test results\n",
    "print(durbin_watson_test)"
   ]
  },
  {
   "cell_type": "markdown",
   "id": "asian-compact",
   "metadata": {},
   "source": [
    "The Durbin-Watson-Test will have one output between 0 - 4. The mean (= 2) would indicate that there is no autocorrelation identified, 0 - 2 means positive autocorrelation (the nearer to zero the higher the correlation), and 2 - 4means negative autocorrelation (the nearer to four the higher the correlation). In our example, the result is 0.0893726..., which clearly indicates strong positive autocorrelation.\n",
    "\n",
    "As a consequence, assumption 3b is also violated, so it seems that a FE-/RE-model will be more suitable.\n",
    "\n",
    "So, let's build the models!\n",
    "\n",
    "### Step 3: Perform FE- and RE-Model\n",
    "\n",
    "We are building the FE- and RE-Model using the ```PanelOLS()``` and ```RandomEffects()``` functions from **linearmodels** package."
   ]
  },
  {
   "cell_type": "code",
   "execution_count": 12,
   "id": "further-philippines",
   "metadata": {},
   "outputs": [],
   "source": [
    "# Import modules\n",
    "from linearmodels import PanelOLS, RandomEffects"
   ]
  },
  {
   "cell_type": "code",
   "execution_count": 13,
   "id": "seventh-bangladesh",
   "metadata": {},
   "outputs": [],
   "source": [
    "# Fixed Effects Models\n",
    "reg_fe = PanelOLS(endog, exog, entity_effects = True)\n",
    "results_fe = reg_fe.fit()"
   ]
  },
  {
   "cell_type": "code",
   "execution_count": 14,
   "id": "arctic-motion",
   "metadata": {},
   "outputs": [],
   "source": [
    "# Random Effects Models\n",
    "reg_re = RandomEffects(endog, exog)\n",
    "results_re = reg_re.fit()"
   ]
  },
  {
   "cell_type": "code",
   "execution_count": 15,
   "id": "falling-structure",
   "metadata": {},
   "outputs": [
    {
     "name": "stdout",
     "output_type": "stream",
     "text": [
      "Fixed Effects Regression Model: \n",
      "                          PanelOLS Estimation Summary                           \n",
      "================================================================================\n",
      "Dep. Variable:                violent   R-squared:                        0.1127\n",
      "Estimator:                   PanelOLS   R-squared (Between):              0.1141\n",
      "No. Observations:                1173   R-squared (Within):               0.1127\n",
      "Date:                Tue, Jul 13 2021   R-squared (Overall):              0.1140\n",
      "Time:                        21:53:05   Log-likelihood                   -7081.9\n",
      "Cov. Estimator:            Unadjusted                                           \n",
      "                                        F-statistic:                      142.39\n",
      "Entities:                          51   P-value                           0.0000\n",
      "Avg Obs:                       23.000   Distribution:                  F(1,1121)\n",
      "Min Obs:                       23.000                                           \n",
      "Max Obs:                       23.000   F-statistic (robust):             142.39\n",
      "                                        P-value                           0.0000\n",
      "Time periods:                      23   Distribution:                  F(1,1121)\n",
      "Avg Obs:                       51.000                                           \n",
      "Min Obs:                       51.000                                           \n",
      "Max Obs:                       51.000                                           \n",
      "                                                                                \n",
      "                             Parameter Estimates                              \n",
      "==============================================================================\n",
      "            Parameter  Std. Err.     T-stat    P-value    Lower CI    Upper CI\n",
      "------------------------------------------------------------------------------\n",
      "const          181.70     27.101     6.7046     0.0000      128.53      234.88\n",
      "income         0.0234     0.0020     11.933     0.0000      0.0196      0.0273\n",
      "==============================================================================\n",
      "\n",
      "F-test for Poolability: 180.75\n",
      "P-value: 0.0000\n",
      "Distribution: F(50,1121)\n",
      "\n",
      "Included effects: Entity\n",
      "\n",
      "Random Effects Regression Model: \n",
      "                        RandomEffects Estimation Summary                        \n",
      "================================================================================\n",
      "Dep. Variable:                violent   R-squared:                        0.1128\n",
      "Estimator:              RandomEffects   R-squared (Between):              0.1159\n",
      "No. Observations:                1173   R-squared (Within):               0.1127\n",
      "Date:                Tue, Jul 13 2021   R-squared (Overall):              0.1156\n",
      "Time:                        21:53:05   Log-likelihood                   -7109.8\n",
      "Cov. Estimator:            Unadjusted                                           \n",
      "                                        F-statistic:                      148.90\n",
      "Entities:                          51   P-value                           0.0000\n",
      "Avg Obs:                       23.000   Distribution:                  F(1,1171)\n",
      "Min Obs:                       23.000                                           \n",
      "Max Obs:                       23.000   F-statistic (robust):             148.90\n",
      "                                        P-value                           0.0000\n",
      "Time periods:                      23   Distribution:                  F(1,1171)\n",
      "Avg Obs:                       51.000                                           \n",
      "Min Obs:                       51.000                                           \n",
      "Max Obs:                       51.000                                           \n",
      "                                                                                \n",
      "                             Parameter Estimates                              \n",
      "==============================================================================\n",
      "            Parameter  Std. Err.     T-stat    P-value    Lower CI    Upper CI\n",
      "------------------------------------------------------------------------------\n",
      "const          175.39     48.461     3.6193     0.0003      80.314      270.47\n",
      "income         0.0239     0.0020     12.203     0.0000      0.0200      0.0277\n",
      "==============================================================================\n",
      "\n"
     ]
    }
   ],
   "source": [
    "# Print the results from both models\n",
    "print(f'Fixed Effects Regression Model: \\n{results_fe}\\n')\n",
    "print(f'Random Effects Regression Model: \\n{results_re}\\n')"
   ]
  },
  {
   "cell_type": "markdown",
   "id": "featured-female",
   "metadata": {},
   "source": [
    "### Step 4: Perform Hausman-Test\n",
    "\n",
    "In this example, both perform similar (although, FE seems to perform slightly better). So, in order to test which model should be applied in this study, we will finally perform the **Hausman-Test**."
   ]
  },
  {
   "cell_type": "code",
   "execution_count": 16,
   "id": "amber-microphone",
   "metadata": {},
   "outputs": [],
   "source": [
    "# Import modules\n",
    "import numpy.linalg as la\n",
    "from scipy import stats\n",
    "import numpy as np"
   ]
  },
  {
   "cell_type": "code",
   "execution_count": 17,
   "id": "stuck-sampling",
   "metadata": {},
   "outputs": [],
   "source": [
    "# Create the hausman test function\n",
    "def hausman(fe, re):\n",
    "    b = fe.params\n",
    "    B = re.params\n",
    "    v_b = fe.cov\n",
    "    v_B = re.cov\n",
    "    \n",
    "    df = b[np.abs(b) < 1e8].size\n",
    "    chi2 = np.dot((b - B).T, la.inv(v_b - v_B).dot(b - B))\n",
    "    pval = stats.chi2.sf(chi2, df)\n",
    "    \n",
    "    return chi2, df, pval"
   ]
  },
  {
   "cell_type": "code",
   "execution_count": 18,
   "id": "played-window",
   "metadata": {},
   "outputs": [],
   "source": [
    "# Perform the hausman test\n",
    "hausman_test = hausman(results_fe, results_re)"
   ]
  },
  {
   "cell_type": "code",
   "execution_count": 19,
   "id": "homeless-governor",
   "metadata": {},
   "outputs": [
    {
     "name": "stdout",
     "output_type": "stream",
     "text": [
      "chi-Squared: 9.426371343365807\n",
      "\n",
      "Degree of Freedom: 2\n",
      "\n",
      "p-Value: 0.008976136961510497\n",
      "\n"
     ]
    }
   ],
   "source": [
    "# Print the test results\n",
    "print(f'chi-Squared: {hausman_test[0]}\\n')\n",
    "print(f'Degree of Freedom: {hausman_test[1]}\\n')\n",
    "print(f'p-Value: {hausman_test[2]}\\n')"
   ]
  },
  {
   "cell_type": "markdown",
   "id": "balanced-finland",
   "metadata": {},
   "source": [
    "### Results:\n",
    "\n",
    "Since the *p*-value is very small (0.008976...), the null hypothesis can be rejected. Accordingly, the FE-model seems to be the most suitable, because we clearly have endogeneity in our model.\n",
    "\n",
    "In order to model endogeneity, we could now perofrm regressionmodels like 2SLS (2 Stage Least Squares) in which instrument variables help to deal with endogeneity."
   ]
  },
  {
   "cell_type": "markdown",
   "id": "resident-bosnia",
   "metadata": {},
   "source": [
    "## Are Training Subsidies for Firms Effective?\n",
    "\n",
    "Identifying causal relationships from observational data is not easy. Still, researchers are often interested in examining the effects of policy changesor other decisions. In those analyses, researchers will face any number of analytical decisions, including whether to use **fixed** or **random effects models** to control for variables that don’t change over time.\n",
    "\n",
    "Let’s consider an example. Suppose we’re interested in estimating the effectthat a government grant might have had on firms’ product quality (as examined [in this previous study](https://www.researchgate.net/profile/Harry-Holzer/publication/5119125_Are_Training_Subsidies_for_Firms_Effective_The_Michigan_Experience/links/0deec518bdb0d7cc50000000/Are-Training-Subsidies-for-Firms-Effective-The-Michigan-Experience.pdf)). In addition to controlling for observed variables like the number of employees the firms had at different timepoints in the study period, we might also want to control for unobserved variables, such as the management quality of the firms.\n",
    "\n",
    "Assuming that the firms’ management quality is constant over time, we can use regression models to try to account for those unobserved factors — but there isn’t always consensus about the best way to do so. Specifically, researchers often must decide whether to use a **fixed** or **random effects** approach in an analysis like this.\n",
    "\n",
    "In this example, we discuss some of the differences between **fixed** and **random effects** models when applied to panel data — that is, data collected overtime on the same unit of analysis — and how these models can be implemented in the programming language Python."
   ]
  },
  {
   "cell_type": "markdown",
   "id": "saved-seattle",
   "metadata": {},
   "source": [
    "### Fixed vs. Random Effects in Panel Data\n",
    "\n",
    "Broadly speaking, the distinction between a **fixed effects** approach and a **random effects** approach concerns the correlation — or lack thereof — between unobserved variables and observed variables. To highlight this difference, let’s go back to the example cited above.\n",
    "\n",
    "The key issue in deciding between the two approaches is whether or not the unobserved variables in our analysis — in this case, the firms’ management quality — might be correlated with observed variables. We might use a **fixed effects** approach if we think that these variables are correlated — for example, if we think firms’ management quality has a role in determining whether the firms receive a grant. But we might use a **random effects** approach if we think the two variables are\n",
    "not correlated.\n",
    "\n",
    "**Fixed effects** help capture the effects of all variables\n",
    "that don’t change overtime. In other words, anything else that does not change over time at the firm level, such as its location, would be captured by these fixed effects terms in the model. That means we cannot separately estimate the effect of firms’ location on their performance.\n",
    "\n",
    "This is quite restrictive for some applications, so researchers who might be interested in studying the effect of time-invariant variables may want to choose the **random effects** framework instead, even though these models impose stronger assumptions about the unobserved effects."
   ]
  },
  {
   "cell_type": "markdown",
   "id": "institutional-torture",
   "metadata": {},
   "source": [
    "### Using Python to Implement the Models\n",
    "\n",
    "Next, we’ll illustrate how to implement panel data analysis in Python, using a built-in dataset on firms’ performance from the **linearmodels** library that follows from the example discussed above. Note that **linearmodels** is only supported in Python 3."
   ]
  },
  {
   "cell_type": "code",
   "execution_count": 20,
   "id": "british-influence",
   "metadata": {},
   "outputs": [],
   "source": [
    "# Import modules\n",
    "import numpy as np\n",
    "import pandas as pd\n",
    "from linearmodels import PanelOLS\n",
    "from linearmodels import RandomEffects\n",
    "from linearmodels.datasets import jobtraining"
   ]
  },
  {
   "cell_type": "markdown",
   "id": "embedded-cross",
   "metadata": {},
   "source": [
    "To implement a random effects model, we call the **RandomEffects()** method and assign the firm code and year columns as the indexes in the dataframe."
   ]
  },
  {
   "cell_type": "code",
   "execution_count": 21,
   "id": "collaborative-bathroom",
   "metadata": {},
   "outputs": [],
   "source": [
    "# Import data and setting the indices for regression\n",
    "data = jobtraining.load()\n",
    "year = pd.Categorical(data.year)\n",
    "data = data.set_index(['fcode', 'year'])\n",
    "data['year'] = year"
   ]
  },
  {
   "cell_type": "markdown",
   "id": "oriental-animation",
   "metadata": {},
   "source": [
    "For the dependent variable, we use the change in scrap rate between periods as a proxy of the product quality. For the independent variables, we include the grant status in period *t* (=1 if received grant) and the number of employees at the firm."
   ]
  },
  {
   "cell_type": "code",
   "execution_count": 22,
   "id": "fresh-cooperation",
   "metadata": {},
   "outputs": [],
   "source": [
    "# Creating the exog dataframes\n",
    "exog_vars = ['grant', 'employ']\n",
    "exog = sm.add_constant(data[exog_vars])"
   ]
  },
  {
   "cell_type": "code",
   "execution_count": 23,
   "id": "recent-upper",
   "metadata": {},
   "outputs": [
    {
     "name": "stdout",
     "output_type": "stream",
     "text": [
      "                        RandomEffects Estimation Summary                        \n",
      "================================================================================\n",
      "Dep. Variable:                clscrap   R-squared:                        0.0165\n",
      "Estimator:              RandomEffects   R-squared (Between):              0.0314\n",
      "No. Observations:                 105   R-squared (Within):               0.0015\n",
      "Date:                Tue, Jul 13 2021   R-squared (Overall):              0.0199\n",
      "Time:                        21:53:05   Log-likelihood                   -77.721\n",
      "Cov. Estimator:            Unadjusted                                           \n",
      "                                        F-statistic:                      0.8542\n",
      "Entities:                          53   P-value                           0.4286\n",
      "Avg Obs:                       1.9811   Distribution:                   F(2,102)\n",
      "Min Obs:                       1.0000                                           \n",
      "Max Obs:                       2.0000   F-statistic (robust):             0.8634\n",
      "                                        P-value                           0.4248\n",
      "Time periods:                       2   Distribution:                   F(2,102)\n",
      "Avg Obs:                       52.500                                           \n",
      "Min Obs:                       52.000                                           \n",
      "Max Obs:                       53.000                                           \n",
      "                                                                                \n",
      "                             Parameter Estimates                              \n",
      "==============================================================================\n",
      "            Parameter  Std. Err.     T-stat    P-value    Lower CI    Upper CI\n",
      "------------------------------------------------------------------------------\n",
      "const         -0.1670     0.0892    -1.8721     0.0641     -0.3440      0.0099\n",
      "grant         -0.1471     0.1214    -1.2115     0.2285     -0.3879      0.0937\n",
      "employ        -0.0003     0.0008    -0.3893     0.6979     -0.0019      0.0013\n",
      "==============================================================================\n"
     ]
    },
    {
     "name": "stderr",
     "output_type": "stream",
     "text": [
      "C:\\Users\\lokma\\Anaconda3\\lib\\site-packages\\linearmodels\\shared\\exceptions.py:35: MissingValueWarning: \n",
      "Inputs contain missing values. Dropping rows with missing observations.\n",
      "  warnings.warn(missing_value_warning_msg, MissingValueWarning)\n"
     ]
    }
   ],
   "source": [
    "# Perform random effects regression\n",
    "mod = RandomEffects(data.clscrap, exog)\n",
    "re_res = mod.fit()\n",
    "print(re_res)"
   ]
  },
  {
   "cell_type": "markdown",
   "id": "international-apparatus",
   "metadata": {},
   "source": [
    "To implement the fixed effects model, we use the PanelOLS method, and set the parameter ```entity_effects``` to be True."
   ]
  },
  {
   "cell_type": "code",
   "execution_count": 24,
   "id": "faced-freeze",
   "metadata": {},
   "outputs": [
    {
     "name": "stdout",
     "output_type": "stream",
     "text": [
      "                          PanelOLS Estimation Summary                           \n",
      "================================================================================\n",
      "Dep. Variable:                clscrap   R-squared:                        0.0205\n",
      "Estimator:                   PanelOLS   R-squared (Between):              0.0362\n",
      "No. Observations:                 105   R-squared (Within):              -0.0048\n",
      "Date:                Tue, Jul 13 2021   R-squared (Overall):              0.0205\n",
      "Time:                        21:53:05   Log-likelihood                   -91.226\n",
      "Cov. Estimator:            Unadjusted                                           \n",
      "                                        F-statistic:                      1.0653\n",
      "Entities:                          53   P-value                           0.3484\n",
      "Avg Obs:                       1.9811   Distribution:                   F(2,102)\n",
      "Min Obs:                       1.0000                                           \n",
      "Max Obs:                       2.0000   F-statistic (robust):             1.0653\n",
      "                                        P-value                           0.3484\n",
      "Time periods:                       2   Distribution:                   F(2,102)\n",
      "Avg Obs:                       52.500                                           \n",
      "Min Obs:                       52.000                                           \n",
      "Max Obs:                       53.000                                           \n",
      "                                                                                \n",
      "                             Parameter Estimates                              \n",
      "==============================================================================\n",
      "            Parameter  Std. Err.     T-stat    P-value    Lower CI    Upper CI\n",
      "------------------------------------------------------------------------------\n",
      "const         -0.1622     0.0830    -1.9546     0.0534     -0.3267      0.0024\n",
      "grant         -0.1783     0.1297    -1.3752     0.1721     -0.4356      0.0789\n",
      "employ        -0.0003     0.0007    -0.3640     0.7166     -0.0017      0.0012\n",
      "==============================================================================\n",
      "\n",
      "\n"
     ]
    }
   ],
   "source": [
    "# perform fixed effects regression\n",
    "mod = PanelOLS(data.clscrap, exog)\n",
    "re_res = mod.fit()\n",
    "print(re_res)"
   ]
  },
  {
   "cell_type": "markdown",
   "id": "superb-guarantee",
   "metadata": {},
   "source": [
    "The results are quite different between the fixed and random effects models, but neither is statistically significant. However, to the extent that you think the unobserved effect of the firms is uncorrelated with whether the firms received the grant, the random effects model is more appropriate."
   ]
  },
  {
   "cell_type": "markdown",
   "id": "floral-criticism",
   "metadata": {},
   "source": [
    "### Equivalence of Fixed Effects Models and Dummy Variable Regression\n",
    "\n",
    "Estimating a fixed effects model is equivalent to adding a dummy variable for each subject or unit of interest in the standard OLS model. To illustrate equivalence between the two approaches, we can use the OLS method in the statsmodels library, and regress the same dependent variable on the categorized variable of firm, and other independent variables:"
   ]
  },
  {
   "cell_type": "code",
   "execution_count": 25,
   "id": "stock-definition",
   "metadata": {},
   "outputs": [],
   "source": [
    "# Import the data again\n",
    "data = jobtraining.load()\n",
    "\n",
    "# Create the year dummies for OLS\n",
    "data['year'] = pd.Categorical(data.year)"
   ]
  },
  {
   "cell_type": "code",
   "execution_count": 26,
   "id": "anticipated-charity",
   "metadata": {},
   "outputs": [
    {
     "name": "stdout",
     "output_type": "stream",
     "text": [
      "                            OLS Regression Results                            \n",
      "==============================================================================\n",
      "Dep. Variable:                clscrap   R-squared:                       0.630\n",
      "Model:                            OLS   Adj. R-squared:                  0.230\n",
      "Method:                 Least Squares   F-statistic:                     1.577\n",
      "Date:                Tue, 13 Jul 2021   Prob (F-statistic):             0.0529\n",
      "Time:                        21:53:06   Log-Likelihood:                -40.109\n",
      "No. Observations:                 105   AIC:                             190.2\n",
      "Df Residuals:                      50   BIC:                             336.2\n",
      "Df Model:                          54                                         \n",
      "Covariance Type:            nonrobust                                         \n",
      "======================================================================================\n",
      "                         coef    std err          t      P>|t|      [0.025      0.975]\n",
      "--------------------------------------------------------------------------------------\n",
      "Intercept             -0.0558      0.233     -0.239      0.812      -0.524       0.412\n",
      "C(fcode)[T.410440] -1.364e-13   2.82e-13     -0.483      0.631   -7.03e-13     4.3e-13\n",
      "C(fcode)[T.410495]  4.336e-13   7.58e-13      0.572      0.570   -1.09e-12    1.96e-12\n",
      "C(fcode)[T.410500] -4.806e-14   7.93e-14     -0.606      0.547   -2.07e-13    1.11e-13\n",
      "C(fcode)[T.410501]  8.417e-14   1.24e-13      0.676      0.502   -1.66e-13    3.34e-13\n",
      "C(fcode)[T.410509] -6.429e-14   9.83e-14     -0.654      0.516   -2.62e-13    1.33e-13\n",
      "C(fcode)[T.410513] -2.698e-14   4.19e-14     -0.644      0.523   -1.11e-13    5.72e-14\n",
      "C(fcode)[T.410517] -1.438e-14    1.3e-14     -1.104      0.275   -4.05e-14    1.18e-14\n",
      "C(fcode)[T.410518] -3.561e-14   2.87e-14     -1.240      0.221   -9.33e-14    2.21e-14\n",
      "C(fcode)[T.410521]   2.04e-14   3.07e-14      0.664      0.510   -4.13e-14    8.21e-14\n",
      "C(fcode)[T.410523]     0.1627      0.369      0.440      0.662      -0.579       0.905\n",
      "C(fcode)[T.410529]  3.927e-15   5.35e-15      0.734      0.466   -6.82e-15    1.47e-14\n",
      "C(fcode)[T.410531] -3.733e-14   5.21e-14     -0.716      0.477   -1.42e-13    6.74e-14\n",
      "C(fcode)[T.410533]  4.409e-14    4.5e-14      0.979      0.332   -4.64e-14    1.35e-13\n",
      "C(fcode)[T.410535]  2.667e-14   3.68e-14      0.724      0.472   -4.73e-14    1.01e-13\n",
      "C(fcode)[T.410536] -2.075e-14   3.02e-14     -0.686      0.496   -8.15e-14       4e-14\n",
      "C(fcode)[T.410538]     0.1099      0.509      0.216      0.830      -0.912       1.131\n",
      "C(fcode)[T.410540] -4.166e-14   6.39e-14     -0.652      0.517    -1.7e-13    8.66e-14\n",
      "C(fcode)[T.410544] -8.953e-15    1.7e-14     -0.526      0.601   -4.31e-14    2.52e-14\n",
      "C(fcode)[T.410546]  7.809e-15   1.16e-14      0.676      0.502   -1.54e-14     3.1e-14\n",
      "C(fcode)[T.410547] -1.268e-15   4.63e-15     -0.274      0.785   -1.06e-14    8.04e-15\n",
      "C(fcode)[T.410556] -6.924e-15   1.14e-14     -0.606      0.547   -2.99e-14     1.6e-14\n",
      "C(fcode)[T.410560]  7.464e-15   1.03e-14      0.726      0.471   -1.32e-14    2.81e-14\n",
      "C(fcode)[T.410561]   4.96e-16   2.35e-15      0.211      0.834   -4.22e-15    5.21e-15\n",
      "C(fcode)[T.410562]  9.222e-16   4.33e-15      0.213      0.832   -7.78e-15    9.63e-15\n",
      "C(fcode)[T.410563]     0.1335      0.363      0.368      0.715      -0.596       0.863\n",
      "C(fcode)[T.410564] -9.428e-15   1.24e-14     -0.761      0.450   -3.43e-14    1.54e-14\n",
      "C(fcode)[T.410565]    -1.6648      0.399     -4.172      0.000      -2.466      -0.863\n",
      "C(fcode)[T.410566]    -0.1337      0.403     -0.332      0.741      -0.943       0.675\n",
      "C(fcode)[T.410567]    -0.4746      0.367     -1.292      0.202      -1.212       0.263\n",
      "C(fcode)[T.410569]  -1.12e-14   1.66e-14     -0.674      0.503   -4.46e-14    2.22e-14\n",
      "C(fcode)[T.410571] -9.434e-16   5.77e-15     -0.163      0.871   -1.25e-14    1.07e-14\n",
      "C(fcode)[T.410577]     0.2321      0.367      0.633      0.530      -0.504       0.969\n",
      "C(fcode)[T.410586] -6.773e-15   7.81e-15     -0.868      0.390   -2.25e-14    8.91e-15\n",
      "C(fcode)[T.410591]  5.617e-15   7.68e-15      0.731      0.468   -9.81e-15     2.1e-14\n",
      "C(fcode)[T.410592]    -0.1145      0.402     -0.285      0.777      -0.922       0.693\n",
      "C(fcode)[T.410593]     0.0666      0.417      0.160      0.874      -0.772       0.905\n",
      "C(fcode)[T.410596]    -0.3634      0.398     -0.913      0.365      -1.163       0.436\n",
      "C(fcode)[T.410603]  2.412e-16   1.79e-16      1.344      0.185   -1.19e-16    6.02e-16\n",
      "C(fcode)[T.410604]  -6.07e-16   2.41e-15     -0.252      0.802   -5.45e-15    4.24e-15\n",
      "C(fcode)[T.410606]     0.0688      0.410      0.168      0.868      -0.755       0.892\n",
      "C(fcode)[T.410609]  1.129e-15   2.44e-15      0.462      0.646   -3.78e-15    6.04e-15\n",
      "C(fcode)[T.410612] -2.471e-15   4.87e-15     -0.507      0.614   -1.23e-14    7.32e-15\n",
      "C(fcode)[T.410626]     0.0170      0.384      0.044      0.965      -0.755       0.789\n",
      "C(fcode)[T.410627] -2.181e-15   4.64e-15     -0.470      0.640   -1.15e-14    7.13e-15\n",
      "C(fcode)[T.410629]    -0.3466      0.394     -0.880      0.383      -1.138       0.445\n",
      "C(fcode)[T.410635] -2.211e-16   8.25e-16     -0.268      0.790   -1.88e-15    1.44e-15\n",
      "C(fcode)[T.410636] -3.623e-15   8.34e-15     -0.434      0.666   -2.04e-14    1.31e-14\n",
      "C(fcode)[T.410639] -5.144e-16   1.03e-15     -0.499      0.620   -2.58e-15    1.55e-15\n",
      "C(fcode)[T.410640] -9.285e-16   2.01e-15     -0.462      0.646   -4.97e-15    3.11e-15\n",
      "C(fcode)[T.410641] -1.678e-16   5.43e-16     -0.309      0.759   -1.26e-15    9.23e-16\n",
      "C(fcode)[T.410642]  1.147e-15   2.42e-15      0.474      0.638   -3.72e-15    6.01e-15\n",
      "C(fcode)[T.410649] -3.679e-15   8.61e-15     -0.428      0.671    -2.1e-14    1.36e-14\n",
      "C(fcode)[T.410653]     0.1192      0.406      0.294      0.770      -0.696       0.934\n",
      "C(fcode)[T.410665]    -0.1715      0.405     -0.423      0.674      -0.985       0.642\n",
      "C(fcode)[T.410679] -1.568e-15   3.37e-15     -0.465      0.644   -8.34e-15     5.2e-15\n",
      "C(fcode)[T.410680] -1.178e-15   2.51e-15     -0.469      0.641   -6.23e-15    3.87e-15\n",
      "C(fcode)[T.410685]     0.3473      0.395      0.879      0.384      -0.446       1.141\n",
      "C(fcode)[T.410686] -1.377e-17   4.18e-16     -0.033      0.974   -8.53e-16    8.26e-16\n",
      "C(fcode)[T.418006]  6.648e-17   1.13e-16      0.589      0.558    -1.6e-16    2.93e-16\n",
      "C(fcode)[T.418007] -4.959e-16   1.29e-15     -0.384      0.703   -3.09e-15     2.1e-15\n",
      "C(fcode)[T.418008]  9.256e-16   1.69e-15      0.549      0.586   -2.46e-15    4.31e-15\n",
      "C(fcode)[T.418011]    -0.6386      0.379     -1.686      0.098      -1.399       0.122\n",
      "C(fcode)[T.418013] -2.699e-16   6.83e-16     -0.395      0.695   -1.64e-15     1.1e-15\n",
      "C(fcode)[T.418014] -3.985e-15   8.65e-15     -0.461      0.647   -2.14e-14    1.34e-14\n",
      "C(fcode)[T.418021]     0.1077      0.414      0.260      0.796      -0.724       0.939\n",
      "C(fcode)[T.418024] -2.218e-15   4.77e-15     -0.465      0.644   -1.18e-14    7.36e-15\n",
      "C(fcode)[T.418035]    -0.2010      0.389     -0.517      0.608      -0.983       0.581\n",
      "C(fcode)[T.418036] -1.821e-15   3.98e-15     -0.458      0.649   -9.82e-15    6.17e-15\n",
      "C(fcode)[T.418045]     0.0883      0.402      0.220      0.827      -0.719       0.896\n",
      "C(fcode)[T.418046]  -2.01e-15   4.38e-15     -0.459      0.648   -1.08e-14    6.78e-15\n",
      "C(fcode)[T.418051] -3.358e-15    7.1e-15     -0.473      0.638   -1.76e-14    1.09e-14\n",
      "C(fcode)[T.418052]  1.872e-16   5.12e-16      0.366      0.716   -8.41e-16    1.22e-15\n",
      "C(fcode)[T.418054]     0.0785      0.364      0.215      0.830      -0.653       0.810\n",
      "C(fcode)[T.418065]     0.6541      0.901      0.726      0.471      -1.155       2.463\n",
      "C(fcode)[T.418066] -2.073e-15    4.5e-15     -0.461      0.647   -1.11e-14    6.96e-15\n",
      "C(fcode)[T.418076]    -0.5551      0.362     -1.535      0.131      -1.282       0.171\n",
      "C(fcode)[T.418083]    -0.2750      0.365     -0.753      0.455      -1.008       0.458\n",
      "C(fcode)[T.418084] -1.512e-17   3.26e-17     -0.463      0.645   -8.06e-17    5.04e-17\n",
      "C(fcode)[T.418091]    -0.8553      0.518     -1.652      0.105      -1.895       0.185\n",
      "C(fcode)[T.418097]     0.2907      0.412      0.705      0.484      -0.538       1.119\n",
      "C(fcode)[T.418098]          0          0        nan        nan           0           0\n",
      "C(fcode)[T.418107]    -0.2458      0.390     -0.630      0.532      -1.030       0.538\n",
      "C(fcode)[T.418109]          0          0        nan        nan           0           0\n",
      "C(fcode)[T.418118]    -1.0371      0.409     -2.535      0.014      -1.859      -0.215\n",
      "C(fcode)[T.418124]          0          0        nan        nan           0           0\n",
      "C(fcode)[T.418125]     0.5437      0.434      1.251      0.217      -0.329       1.416\n",
      "C(fcode)[T.418126]          0          0        nan        nan           0           0\n",
      "C(fcode)[T.418140]    -0.4555      0.401     -1.136      0.261      -1.261       0.350\n",
      "C(fcode)[T.418147]          0          0        nan        nan           0           0\n",
      "C(fcode)[T.418163]     0.0662      0.362      0.183      0.856      -0.661       0.793\n",
      "C(fcode)[T.418168]     1.5699      0.413      3.797      0.000       0.739       2.400\n",
      "C(fcode)[T.418177]     0.3393      0.391      0.868      0.390      -0.446       1.125\n",
      "C(fcode)[T.418183]          0          0        nan        nan           0           0\n",
      "C(fcode)[T.418185]          0          0        nan        nan           0           0\n",
      "C(fcode)[T.418213]          0          0        nan        nan           0           0\n",
      "C(fcode)[T.418220]          0          0        nan        nan           0           0\n",
      "C(fcode)[T.418225]          0          0        nan        nan           0           0\n",
      "C(fcode)[T.418229]          0          0        nan        nan           0           0\n",
      "C(fcode)[T.418237]    -0.0527      0.392     -0.135      0.894      -0.839       0.734\n",
      "C(fcode)[T.418239]          0          0        nan        nan           0           0\n",
      "C(fcode)[T.418243]          0          0        nan        nan           0           0\n",
      "C(fcode)[T.418245]          0          0        nan        nan           0           0\n",
      "C(fcode)[T.419198]    -0.1765      0.417     -0.423      0.674      -1.014       0.661\n",
      "C(fcode)[T.419201]     0.0883      0.402      0.220      0.827      -0.719       0.896\n",
      "C(fcode)[T.419242]     0.3632      0.372      0.976      0.334      -0.384       1.111\n",
      "C(fcode)[T.419268]    -0.1248      0.425     -0.293      0.770      -0.979       0.730\n",
      "C(fcode)[T.419272]     0.0757      0.377      0.201      0.842      -0.682       0.833\n",
      "C(fcode)[T.419275]          0          0        nan        nan           0           0\n",
      "C(fcode)[T.419276]          0          0        nan        nan           0           0\n",
      "C(fcode)[T.419289]    -0.1175      0.411     -0.286      0.776      -0.944       0.709\n",
      "C(fcode)[T.419297]     0.5836      0.501      1.164      0.250      -0.424       1.591\n",
      "C(fcode)[T.419298]          0          0        nan        nan           0           0\n",
      "C(fcode)[T.419302]          0          0        nan        nan           0           0\n",
      "C(fcode)[T.419303]          0          0        nan        nan           0           0\n",
      "C(fcode)[T.419305]          0          0        nan        nan           0           0\n",
      "C(fcode)[T.419307]     0.6339      0.774      0.819      0.416      -0.920       2.188\n",
      "C(fcode)[T.419309]          0          0        nan        nan           0           0\n",
      "C(fcode)[T.419312]          0          0        nan        nan           0           0\n",
      "C(fcode)[T.419319]          0          0        nan        nan           0           0\n",
      "C(fcode)[T.419328]          0          0        nan        nan           0           0\n",
      "C(fcode)[T.419335]          0          0        nan        nan           0           0\n",
      "C(fcode)[T.419339]     0.1113      0.367      0.304      0.763      -0.625       0.848\n",
      "C(fcode)[T.419343]     0.2733      0.567      0.482      0.632      -0.865       1.411\n",
      "C(fcode)[T.419344]          0          0        nan        nan           0           0\n",
      "C(fcode)[T.419347]          0          0        nan        nan           0           0\n",
      "C(fcode)[T.419351]          0          0        nan        nan           0           0\n",
      "C(fcode)[T.419357]    -0.4621      0.362     -1.277      0.207      -1.189       0.264\n",
      "C(fcode)[T.419375]          0          0        nan        nan           0           0\n",
      "C(fcode)[T.419376]          0          0        nan        nan           0           0\n",
      "C(fcode)[T.419378]    -0.2088      0.390     -0.535      0.595      -0.993       0.575\n",
      "C(fcode)[T.419379]          0          0        nan        nan           0           0\n",
      "C(fcode)[T.419380]          0          0        nan        nan           0           0\n",
      "C(fcode)[T.419381]    -0.1640      0.416     -0.394      0.695      -1.000       0.672\n",
      "C(fcode)[T.419384]          0          0        nan        nan           0           0\n",
      "C(fcode)[T.419388]    -0.1489      0.384     -0.387      0.700      -0.921       0.623\n",
      "C(fcode)[T.419392]          0          0        nan        nan           0           0\n",
      "C(fcode)[T.419400]          0          0        nan        nan           0           0\n",
      "C(fcode)[T.419401]          0          0        nan        nan           0           0\n",
      "C(fcode)[T.419406]          0          0        nan        nan           0           0\n",
      "C(fcode)[T.419409]     0.1797      0.361      0.497      0.621      -0.546       0.906\n",
      "C(fcode)[T.419410]          0          0        nan        nan           0           0\n",
      "C(fcode)[T.419420]          0          0        nan        nan           0           0\n",
      "C(fcode)[T.419432]     0.7681      0.900      0.853      0.398      -1.040       2.577\n",
      "C(fcode)[T.419433]          0          0        nan        nan           0           0\n",
      "C(fcode)[T.419434]          0          0        nan        nan           0           0\n",
      "C(fcode)[T.419449]          0          0        nan        nan           0           0\n",
      "C(fcode)[T.419450]          0          0        nan        nan           0           0\n",
      "C(fcode)[T.419459]     0.2349      0.503      0.467      0.642      -0.775       1.244\n",
      "C(fcode)[T.419461]          0          0        nan        nan           0           0\n",
      "C(fcode)[T.419467]          0          0        nan        nan           0           0\n",
      "C(fcode)[T.419472]          0          0        nan        nan           0           0\n",
      "C(fcode)[T.419473]          0          0        nan        nan           0           0\n",
      "C(fcode)[T.419479]          0          0        nan        nan           0           0\n",
      "C(fcode)[T.419482]     0.1097      0.400      0.274      0.785      -0.694       0.913\n",
      "C(fcode)[T.419483]     0.5150      0.397      1.297      0.200      -0.282       1.312\n",
      "C(fcode)[T.419486]          0          0        nan        nan           0           0\n",
      "grant                 -0.0475      0.143     -0.333      0.741      -0.334       0.239\n",
      "employ                -0.0022      0.003     -0.660      0.512      -0.009       0.004\n",
      "==============================================================================\n",
      "Omnibus:                       17.255   Durbin-Watson:                   3.049\n",
      "Prob(Omnibus):                  0.000   Jarque-Bera (JB):               82.359\n",
      "Skew:                          -0.000   Prob(JB):                     1.31e-18\n",
      "Kurtosis:                       7.339   Cond. No.                     1.28e+19\n",
      "==============================================================================\n",
      "\n",
      "Notes:\n",
      "[1] Standard Errors assume that the covariance matrix of the errors is correctly specified.\n",
      "[2] The input rank is higher than the number of observations.\n",
      "[3] The smallest eigenvalue is 7.56e-33. This might indicate that there are\n",
      "strong multicollinearity problems or that the design matrix is singular.\n"
     ]
    }
   ],
   "source": [
    "# Estimate the FE model using year dummies\n",
    "fe_ols = smf.ols(formula = 'clscrap ~ 1 + grant + employ + C(fcode)', data = data).fit()\n",
    "print(fe_ols.summary())"
   ]
  },
  {
   "cell_type": "markdown",
   "id": "mobile-remove",
   "metadata": {},
   "source": [
    "The results from the dummy regression show the separately estimated effect of each firm on change in scrap rate. This is sometimes useful when we want to focus on specific units. In addition, we can compute some sample averages of these estimates to get a sense of how much variation there is across firms."
   ]
  }
 ],
 "metadata": {
  "hide_input": false,
  "kernelspec": {
   "display_name": "Python 3",
   "language": "python",
   "name": "python3"
  },
  "language_info": {
   "codemirror_mode": {
    "name": "ipython",
    "version": 3
   },
   "file_extension": ".py",
   "mimetype": "text/x-python",
   "name": "python",
   "nbconvert_exporter": "python",
   "pygments_lexer": "ipython3",
   "version": "3.7.1"
  },
  "nbTranslate": {
   "displayLangs": [
    "*"
   ],
   "hotkey": "alt-t",
   "langInMainMenu": true,
   "sourceLang": "en",
   "targetLang": "fr",
   "useGoogleTranslate": true
  },
  "varInspector": {
   "cols": {
    "lenName": 16,
    "lenType": 16,
    "lenVar": 40
   },
   "kernels_config": {
    "python": {
     "delete_cmd_postfix": "",
     "delete_cmd_prefix": "del ",
     "library": "var_list.py",
     "varRefreshCmd": "print(var_dic_list())"
    },
    "r": {
     "delete_cmd_postfix": ") ",
     "delete_cmd_prefix": "rm(",
     "library": "var_list.r",
     "varRefreshCmd": "cat(var_dic_list()) "
    }
   },
   "types_to_exclude": [
    "module",
    "function",
    "builtin_function_or_method",
    "instance",
    "_Feature"
   ],
   "window_display": false
  }
 },
 "nbformat": 4,
 "nbformat_minor": 5
}
